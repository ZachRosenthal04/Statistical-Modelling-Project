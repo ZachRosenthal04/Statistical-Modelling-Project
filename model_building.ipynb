{
 "cells": [
  {
   "cell_type": "markdown",
   "metadata": {},
   "source": [
    "Build a regression model."
   ]
  },
  {
   "cell_type": "code",
   "execution_count": 2,
   "metadata": {},
   "outputs": [],
   "source": [
    "import numpy as np\n",
    "import pandas as pd\n",
    "import matplotlib.pyplot as plt\n",
    "import statsmodels.api as sm\n",
    "# import linear_model from sklearn\n",
    "from sklearn import linear_model"
   ]
  },
  {
   "cell_type": "markdown",
   "metadata": {},
   "source": [
    "Provide model output and an interpretation of the results. "
   ]
  },
  {
   "cell_type": "code",
   "execution_count": 3,
   "metadata": {},
   "outputs": [],
   "source": [
    "analysis_df = pd.read_csv('analysis_bar_and_bixi_df.csv', index_col=0)\n",
    "\n",
    "#Now all the data is numerical"
   ]
  },
  {
   "cell_type": "code",
   "execution_count": 4,
   "metadata": {},
   "outputs": [
    {
     "data": {
      "text/html": [
       "<div>\n",
       "<style scoped>\n",
       "    .dataframe tbody tr th:only-of-type {\n",
       "        vertical-align: middle;\n",
       "    }\n",
       "\n",
       "    .dataframe tbody tr th {\n",
       "        vertical-align: top;\n",
       "    }\n",
       "\n",
       "    .dataframe thead th {\n",
       "        text-align: right;\n",
       "    }\n",
       "</style>\n",
       "<table border=\"1\" class=\"dataframe\">\n",
       "  <thead>\n",
       "    <tr style=\"text-align: right;\">\n",
       "      <th></th>\n",
       "      <th>bar_name</th>\n",
       "      <th>popularity</th>\n",
       "      <th>review_count</th>\n",
       "      <th>price</th>\n",
       "      <th>num_stations_pinged</th>\n",
       "      <th>rating</th>\n",
       "      <th>empty_slots</th>\n",
       "      <th>free_bikes</th>\n",
       "      <th>total_slots</th>\n",
       "      <th>percent_used</th>\n",
       "    </tr>\n",
       "  </thead>\n",
       "  <tbody>\n",
       "    <tr>\n",
       "      <th>0</th>\n",
       "      <td>Le 4e Mur</td>\n",
       "      <td>0.97</td>\n",
       "      <td>99.0</td>\n",
       "      <td>3.0</td>\n",
       "      <td>11.0</td>\n",
       "      <td>4.25</td>\n",
       "      <td>12</td>\n",
       "      <td>3</td>\n",
       "      <td>15</td>\n",
       "      <td>80.0</td>\n",
       "    </tr>\n",
       "    <tr>\n",
       "      <th>1</th>\n",
       "      <td>Le Saint Bock</td>\n",
       "      <td>0.98</td>\n",
       "      <td>71.0</td>\n",
       "      <td>2.0</td>\n",
       "      <td>9.0</td>\n",
       "      <td>4.15</td>\n",
       "      <td>12</td>\n",
       "      <td>3</td>\n",
       "      <td>15</td>\n",
       "      <td>80.0</td>\n",
       "    </tr>\n",
       "    <tr>\n",
       "      <th>2</th>\n",
       "      <td>Brasserie Artisanale l'Amère a Boire Inc</td>\n",
       "      <td>0.96</td>\n",
       "      <td>84.0</td>\n",
       "      <td>2.0</td>\n",
       "      <td>8.0</td>\n",
       "      <td>4.05</td>\n",
       "      <td>12</td>\n",
       "      <td>3</td>\n",
       "      <td>15</td>\n",
       "      <td>80.0</td>\n",
       "    </tr>\n",
       "    <tr>\n",
       "      <th>3</th>\n",
       "      <td>Cadet</td>\n",
       "      <td>0.98</td>\n",
       "      <td>93.0</td>\n",
       "      <td>2.0</td>\n",
       "      <td>23.0</td>\n",
       "      <td>4.75</td>\n",
       "      <td>12</td>\n",
       "      <td>3</td>\n",
       "      <td>15</td>\n",
       "      <td>80.0</td>\n",
       "    </tr>\n",
       "    <tr>\n",
       "      <th>4</th>\n",
       "      <td>Pub l'Ile Noire</td>\n",
       "      <td>0.98</td>\n",
       "      <td>69.0</td>\n",
       "      <td>2.0</td>\n",
       "      <td>6.0</td>\n",
       "      <td>3.90</td>\n",
       "      <td>12</td>\n",
       "      <td>3</td>\n",
       "      <td>15</td>\n",
       "      <td>80.0</td>\n",
       "    </tr>\n",
       "    <tr>\n",
       "      <th>...</th>\n",
       "      <td>...</td>\n",
       "      <td>...</td>\n",
       "      <td>...</td>\n",
       "      <td>...</td>\n",
       "      <td>...</td>\n",
       "      <td>...</td>\n",
       "      <td>...</td>\n",
       "      <td>...</td>\n",
       "      <td>...</td>\n",
       "      <td>...</td>\n",
       "    </tr>\n",
       "    <tr>\n",
       "      <th>482</th>\n",
       "      <td>La P'tite Grenouille Montréal</td>\n",
       "      <td>0.30</td>\n",
       "      <td>25.0</td>\n",
       "      <td>2.0</td>\n",
       "      <td>3.0</td>\n",
       "      <td>3.00</td>\n",
       "      <td>6</td>\n",
       "      <td>9</td>\n",
       "      <td>15</td>\n",
       "      <td>40.0</td>\n",
       "    </tr>\n",
       "    <tr>\n",
       "      <th>483</th>\n",
       "      <td>St-Laurent Bifteck</td>\n",
       "      <td>0.06</td>\n",
       "      <td>51.0</td>\n",
       "      <td>1.0</td>\n",
       "      <td>2.0</td>\n",
       "      <td>4.00</td>\n",
       "      <td>41</td>\n",
       "      <td>5</td>\n",
       "      <td>46</td>\n",
       "      <td>89.0</td>\n",
       "    </tr>\n",
       "    <tr>\n",
       "      <th>484</th>\n",
       "      <td>Pincette</td>\n",
       "      <td>0.19</td>\n",
       "      <td>38.0</td>\n",
       "      <td>3.0</td>\n",
       "      <td>5.0</td>\n",
       "      <td>4.50</td>\n",
       "      <td>15</td>\n",
       "      <td>0</td>\n",
       "      <td>15</td>\n",
       "      <td>100.0</td>\n",
       "    </tr>\n",
       "    <tr>\n",
       "      <th>485</th>\n",
       "      <td>John Michael's Pub</td>\n",
       "      <td>0.79</td>\n",
       "      <td>48.0</td>\n",
       "      <td>2.0</td>\n",
       "      <td>4.0</td>\n",
       "      <td>3.00</td>\n",
       "      <td>15</td>\n",
       "      <td>0</td>\n",
       "      <td>15</td>\n",
       "      <td>100.0</td>\n",
       "    </tr>\n",
       "    <tr>\n",
       "      <th>486</th>\n",
       "      <td>Pub St-Paul</td>\n",
       "      <td>0.65</td>\n",
       "      <td>51.0</td>\n",
       "      <td>2.0</td>\n",
       "      <td>3.0</td>\n",
       "      <td>2.50</td>\n",
       "      <td>15</td>\n",
       "      <td>0</td>\n",
       "      <td>15</td>\n",
       "      <td>100.0</td>\n",
       "    </tr>\n",
       "  </tbody>\n",
       "</table>\n",
       "<p>487 rows × 10 columns</p>\n",
       "</div>"
      ],
      "text/plain": [
       "                                     bar_name  popularity  review_count  \\\n",
       "0                                   Le 4e Mur        0.97          99.0   \n",
       "1                               Le Saint Bock        0.98          71.0   \n",
       "2    Brasserie Artisanale l'Amère a Boire Inc        0.96          84.0   \n",
       "3                                       Cadet        0.98          93.0   \n",
       "4                             Pub l'Ile Noire        0.98          69.0   \n",
       "..                                        ...         ...           ...   \n",
       "482             La P'tite Grenouille Montréal        0.30          25.0   \n",
       "483                        St-Laurent Bifteck        0.06          51.0   \n",
       "484                                  Pincette        0.19          38.0   \n",
       "485                        John Michael's Pub        0.79          48.0   \n",
       "486                               Pub St-Paul        0.65          51.0   \n",
       "\n",
       "     price  num_stations_pinged  rating  empty_slots  free_bikes  total_slots  \\\n",
       "0      3.0                 11.0    4.25           12           3           15   \n",
       "1      2.0                  9.0    4.15           12           3           15   \n",
       "2      2.0                  8.0    4.05           12           3           15   \n",
       "3      2.0                 23.0    4.75           12           3           15   \n",
       "4      2.0                  6.0    3.90           12           3           15   \n",
       "..     ...                  ...     ...          ...         ...          ...   \n",
       "482    2.0                  3.0    3.00            6           9           15   \n",
       "483    1.0                  2.0    4.00           41           5           46   \n",
       "484    3.0                  5.0    4.50           15           0           15   \n",
       "485    2.0                  4.0    3.00           15           0           15   \n",
       "486    2.0                  3.0    2.50           15           0           15   \n",
       "\n",
       "     percent_used  \n",
       "0            80.0  \n",
       "1            80.0  \n",
       "2            80.0  \n",
       "3            80.0  \n",
       "4            80.0  \n",
       "..            ...  \n",
       "482          40.0  \n",
       "483          89.0  \n",
       "484         100.0  \n",
       "485         100.0  \n",
       "486         100.0  \n",
       "\n",
       "[487 rows x 10 columns]"
      ]
     },
     "execution_count": 4,
     "metadata": {},
     "output_type": "execute_result"
    }
   ],
   "source": [
    "\n",
    "\n",
    "analysis_df"
   ]
  },
  {
   "cell_type": "code",
   "execution_count": 57,
   "metadata": {},
   "outputs": [],
   "source": [
    "X = analysis_df[['popularity', 'rating', 'review_count', 'price', 'num_stations_pinged', 'free_bikes', 'total_slots']]\n",
    "y = pd.Series(analysis_df['percent_used'],name=analysis_df['percent_used'][0])"
   ]
  },
  {
   "cell_type": "code",
   "execution_count": 58,
   "metadata": {},
   "outputs": [
    {
     "data": {
      "text/plain": [
       "(487, 7)"
      ]
     },
     "execution_count": 58,
     "metadata": {},
     "output_type": "execute_result"
    }
   ],
   "source": [
    "X.shape"
   ]
  },
  {
   "cell_type": "code",
   "execution_count": 59,
   "metadata": {},
   "outputs": [
    {
     "data": {
      "text/html": [
       "<div>\n",
       "<style scoped>\n",
       "    .dataframe tbody tr th:only-of-type {\n",
       "        vertical-align: middle;\n",
       "    }\n",
       "\n",
       "    .dataframe tbody tr th {\n",
       "        vertical-align: top;\n",
       "    }\n",
       "\n",
       "    .dataframe thead th {\n",
       "        text-align: right;\n",
       "    }\n",
       "</style>\n",
       "<table border=\"1\" class=\"dataframe\">\n",
       "  <thead>\n",
       "    <tr style=\"text-align: right;\">\n",
       "      <th></th>\n",
       "      <th>popularity</th>\n",
       "      <th>rating</th>\n",
       "      <th>review_count</th>\n",
       "      <th>price</th>\n",
       "      <th>num_stations_pinged</th>\n",
       "      <th>free_bikes</th>\n",
       "      <th>total_slots</th>\n",
       "    </tr>\n",
       "  </thead>\n",
       "  <tbody>\n",
       "    <tr>\n",
       "      <th>0</th>\n",
       "      <td>0.97</td>\n",
       "      <td>4.25</td>\n",
       "      <td>99.0</td>\n",
       "      <td>3.0</td>\n",
       "      <td>11.0</td>\n",
       "      <td>3</td>\n",
       "      <td>15</td>\n",
       "    </tr>\n",
       "    <tr>\n",
       "      <th>1</th>\n",
       "      <td>0.98</td>\n",
       "      <td>4.15</td>\n",
       "      <td>71.0</td>\n",
       "      <td>2.0</td>\n",
       "      <td>9.0</td>\n",
       "      <td>3</td>\n",
       "      <td>15</td>\n",
       "    </tr>\n",
       "    <tr>\n",
       "      <th>2</th>\n",
       "      <td>0.96</td>\n",
       "      <td>4.05</td>\n",
       "      <td>84.0</td>\n",
       "      <td>2.0</td>\n",
       "      <td>8.0</td>\n",
       "      <td>3</td>\n",
       "      <td>15</td>\n",
       "    </tr>\n",
       "    <tr>\n",
       "      <th>3</th>\n",
       "      <td>0.98</td>\n",
       "      <td>4.75</td>\n",
       "      <td>93.0</td>\n",
       "      <td>2.0</td>\n",
       "      <td>23.0</td>\n",
       "      <td>3</td>\n",
       "      <td>15</td>\n",
       "    </tr>\n",
       "    <tr>\n",
       "      <th>4</th>\n",
       "      <td>0.98</td>\n",
       "      <td>3.90</td>\n",
       "      <td>69.0</td>\n",
       "      <td>2.0</td>\n",
       "      <td>6.0</td>\n",
       "      <td>3</td>\n",
       "      <td>15</td>\n",
       "    </tr>\n",
       "  </tbody>\n",
       "</table>\n",
       "</div>"
      ],
      "text/plain": [
       "   popularity  rating  review_count  price  num_stations_pinged  free_bikes  \\\n",
       "0        0.97    4.25          99.0    3.0                 11.0           3   \n",
       "1        0.98    4.15          71.0    2.0                  9.0           3   \n",
       "2        0.96    4.05          84.0    2.0                  8.0           3   \n",
       "3        0.98    4.75          93.0    2.0                 23.0           3   \n",
       "4        0.98    3.90          69.0    2.0                  6.0           3   \n",
       "\n",
       "   total_slots  \n",
       "0           15  \n",
       "1           15  \n",
       "2           15  \n",
       "3           15  \n",
       "4           15  "
      ]
     },
     "execution_count": 59,
     "metadata": {},
     "output_type": "execute_result"
    }
   ],
   "source": [
    "X.head()"
   ]
  },
  {
   "cell_type": "code",
   "execution_count": 60,
   "metadata": {},
   "outputs": [
    {
     "data": {
      "text/plain": [
       "0    80.0\n",
       "1    80.0\n",
       "2    80.0\n",
       "3    80.0\n",
       "4    80.0\n",
       "Name: 80.0, dtype: float64"
      ]
     },
     "execution_count": 60,
     "metadata": {},
     "output_type": "execute_result"
    }
   ],
   "source": [
    "y.head()"
   ]
  },
  {
   "cell_type": "code",
   "execution_count": 61,
   "metadata": {},
   "outputs": [],
   "source": [
    "X = sm.add_constant(X) # adding a constant\n",
    "lin_reg = sm.OLS(y,X['popularity'])"
   ]
  },
  {
   "cell_type": "code",
   "execution_count": 62,
   "metadata": {},
   "outputs": [
    {
     "name": "stdout",
     "output_type": "stream",
     "text": [
      "                                 OLS Regression Results                                \n",
      "=======================================================================================\n",
      "Dep. Variable:                   80.0   R-squared (uncentered):                   0.727\n",
      "Model:                            OLS   Adj. R-squared (uncentered):              0.727\n",
      "Method:                 Least Squares   F-statistic:                              1295.\n",
      "Date:                Mon, 11 Dec 2023   Prob (F-statistic):                   3.55e-139\n",
      "Time:                        16:24:42   Log-Likelihood:                         -2398.6\n",
      "No. Observations:                 487   AIC:                                      4799.\n",
      "Df Residuals:                     486   BIC:                                      4803.\n",
      "Df Model:                           1                                                  \n",
      "Covariance Type:            nonrobust                                                  \n",
      "==============================================================================\n",
      "                 coef    std err          t      P>|t|      [0.025      0.975]\n",
      "------------------------------------------------------------------------------\n",
      "popularity    69.1593      1.922     35.990      0.000      65.384      72.935\n",
      "==============================================================================\n",
      "Omnibus:                       10.023   Durbin-Watson:                   0.985\n",
      "Prob(Omnibus):                  0.007   Jarque-Bera (JB):                9.760\n",
      "Skew:                           0.310   Prob(JB):                      0.00760\n",
      "Kurtosis:                       2.688   Cond. No.                         1.00\n",
      "==============================================================================\n",
      "\n",
      "Notes:\n",
      "[1] R² is computed without centering (uncentered) since the model does not contain a constant.\n",
      "[2] Standard Errors assume that the covariance matrix of the errors is correctly specified.\n"
     ]
    }
   ],
   "source": [
    "#Model for popularity\n",
    "model = lin_reg.fit()\n",
    "print_model = model.summary()\n",
    "print(print_model)"
   ]
  },
  {
   "cell_type": "markdown",
   "metadata": {},
   "source": [
    "### Understanding the Model Output \n",
    "In the model output above, you should pay attention to the following statistics in this order:\n",
    "\n",
    "R-squared: R-squared reflects the fit of the model. R-squared values range from 0 to 1, where a higher value generally indicates a better fit, assuming certain conditions are met. In this output, we can see that the value is 0.681. This means that the model is capable of explaining 68.1% of the patterns in the data.\n",
    "\n",
    "P>|t| (or the p-value): A p-value of less than 0.05 is considered to be statistically significant. This regression output shows a p-value of 0, which means that the probability of the relationship between the average room size and median house value being solely due to natural variation is 0. In other words, the average room size does impact the median house value.\n",
    "\n",
    "coef: Coef is short for the coefficient of the independent variable. It represents the impact on the response variable per unit increase of the independent variable. In this case, we can see that the coef of AveRoom has a value of 0.3277. This means that a unit increase in the value of AveRoom will have a positive impact on the MedianHouseVal."
   ]
  },
  {
   "cell_type": "markdown",
   "metadata": {},
   "source": [
    "### MY ANALYSIS:\n",
    "\n",
    "Based on the R^2 value, my simple linear regression model comparing how the popularity of a bar within 1000m of the station can explain 73% of the percentage of bikes used from a given bixi bike station. \n"
   ]
  },
  {
   "cell_type": "markdown",
   "metadata": {},
   "source": [
    "#### Multi-linear Regression:"
   ]
  },
  {
   "cell_type": "code",
   "execution_count": 79,
   "metadata": {},
   "outputs": [],
   "source": [
    "X = analysis_df[['rating', 'price', 'num_stations_pinged', 'total_slots']]\n",
    "y = pd.Series(analysis_df['percent_used'],name=analysis_df['percent_used'][0])"
   ]
  },
  {
   "cell_type": "code",
   "execution_count": 77,
   "metadata": {},
   "outputs": [],
   "source": [
    "# Multiple Linear Regression:\n",
    "X = sm.add_constant(X) # adding a constant\n",
    "lin_reg = sm.OLS(y,X)"
   ]
  },
  {
   "cell_type": "code",
   "execution_count": 78,
   "metadata": {},
   "outputs": [
    {
     "name": "stdout",
     "output_type": "stream",
     "text": [
      "                            OLS Regression Results                            \n",
      "==============================================================================\n",
      "Dep. Variable:                   80.0   R-squared:                       0.055\n",
      "Model:                            OLS   Adj. R-squared:                  0.045\n",
      "Method:                 Least Squares   F-statistic:                     5.587\n",
      "Date:                Mon, 11 Dec 2023   Prob (F-statistic):           5.13e-05\n",
      "Time:                        16:29:48   Log-Likelihood:                -2198.0\n",
      "No. Observations:                 487   AIC:                             4408.\n",
      "Df Residuals:                     481   BIC:                             4433.\n",
      "Df Model:                           5                                         \n",
      "Covariance Type:            nonrobust                                         \n",
      "=======================================================================================\n",
      "                          coef    std err          t      P>|t|      [0.025      0.975]\n",
      "---------------------------------------------------------------------------------------\n",
      "const                  66.4071      8.735      7.602      0.000      49.243      83.571\n",
      "popularity             -1.1573      3.254     -0.356      0.722      -7.550       5.236\n",
      "rating                 -6.3787      2.033     -3.137      0.002     -10.373      -2.384\n",
      "price                   3.9645      1.715      2.311      0.021       0.594       7.335\n",
      "num_stations_pinged     0.4905      0.190      2.588      0.010       0.118       0.863\n",
      "total_slots             0.3230      0.115      2.818      0.005       0.098       0.548\n",
      "==============================================================================\n",
      "Omnibus:                       17.191   Durbin-Watson:                   0.575\n",
      "Prob(Omnibus):                  0.000   Jarque-Bera (JB):                8.411\n",
      "Skew:                          -0.065   Prob(JB):                       0.0149\n",
      "Kurtosis:                       2.369   Cond. No.                         239.\n",
      "==============================================================================\n",
      "\n",
      "Notes:\n",
      "[1] Standard Errors assume that the covariance matrix of the errors is correctly specified.\n"
     ]
    }
   ],
   "source": [
    "#Model for Percentage of Bikes Used\n",
    "model = lin_reg.fit()\n",
    "print_model = model.summary()\n",
    "print(print_model)"
   ]
  },
  {
   "cell_type": "code",
   "execution_count": 96,
   "metadata": {},
   "outputs": [],
   "source": [
    "# Model for Bar Ratings and Bike usage on nearby stations:\n",
    "X = analysis_df[['popularity', 'review_count', 'price', 'num_stations_pinged', 'percent_used']]\n",
    "y = pd.Series(analysis_df['rating'],name=analysis_df['rating'][0])"
   ]
  },
  {
   "cell_type": "code",
   "execution_count": 97,
   "metadata": {},
   "outputs": [
    {
     "name": "stdout",
     "output_type": "stream",
     "text": [
      "                            OLS Regression Results                            \n",
      "==============================================================================\n",
      "Dep. Variable:                   4.25   R-squared:                       0.102\n",
      "Model:                            OLS   Adj. R-squared:                  0.093\n",
      "Method:                 Least Squares   F-statistic:                     10.93\n",
      "Date:                Mon, 11 Dec 2023   Prob (F-statistic):           5.55e-10\n",
      "Time:                        17:20:08   Log-Likelihood:                -340.73\n",
      "No. Observations:                 487   AIC:                             693.5\n",
      "Df Residuals:                     481   BIC:                             718.6\n",
      "Df Model:                           5                                         \n",
      "Covariance Type:            nonrobust                                         \n",
      "=======================================================================================\n",
      "                          coef    std err          t      P>|t|      [0.025      0.975]\n",
      "---------------------------------------------------------------------------------------\n",
      "const                   3.5485      0.112     31.789      0.000       3.329       3.768\n",
      "popularity              0.1358      0.072      1.896      0.059      -0.005       0.276\n",
      "review_count            0.0010      0.000      2.415      0.016       0.000       0.002\n",
      "price                   0.1083      0.038      2.868      0.004       0.034       0.182\n",
      "num_stations_pinged     0.0199      0.004      4.733      0.000       0.012       0.028\n",
      "percent_used           -0.0029      0.001     -2.926      0.004      -0.005      -0.001\n",
      "==============================================================================\n",
      "Omnibus:                      175.042   Durbin-Watson:                   1.691\n",
      "Prob(Omnibus):                  0.000   Jarque-Bera (JB):              689.648\n",
      "Skew:                          -1.597   Prob(JB):                    1.76e-150\n",
      "Kurtosis:                       7.876   Cond. No.                         512.\n",
      "==============================================================================\n",
      "\n",
      "Notes:\n",
      "[1] Standard Errors assume that the covariance matrix of the errors is correctly specified.\n"
     ]
    }
   ],
   "source": [
    "# Multiple Linear Regression:\n",
    "X = sm.add_constant(X) # adding a constant\n",
    "lin_reg = sm.OLS(y,X)\n",
    "\n",
    "\n",
    "model = lin_reg.fit()\n",
    "print_model = model.summary()\n",
    "print(print_model)"
   ]
  },
  {
   "cell_type": "markdown",
   "metadata": {},
   "source": [
    "Based on the R^2 value of my simple linear regression model, for how popularity of a bar within 1000m radius of bixi station efffects the percentage of bikes used (or how busy the station is) shows that the bar's popularity has a statistically significant effect on the business of the bike station and can account of about 73% of the percentage of used bikes at the given station.\n",
    "Unsurprisingly, bars tend to be in high foot-traffic areas and tourist spots, and the nightlife in Montreal is pretty good so it does make sense that it would have a significant affect on the usage of bixi bikes.\n",
    "\n",
    "\n",
    "Based on this Adj R^2 value, my multi-linear model looking at Bar Ratings in Montreal conveys that popularity, the number of reviews, the price, the number of nearby bixi stations, and the businesses of those stations has a statistically significant relevance for 10% of rating of a bar in Montreal.\n",
    "\n",
    "I chose to include the popularity column even though it's p-value is greater than 0.05 because it is important, but also it's a very human and subjective value and so to have it so close to the desired p-value threshold I think is important.\n",
    "\n",
    "From the bixi API, it is really interesting to see that the availability of affordable, nearby public-transit access is the most statistically significant element.\n",
    "\n",
    "Also, at least in this model, the price and the business of the bixi_stations nearby appear to hahve a similar affect. That would be a place to explore further. A future look could be a deeper dive into the availability of public transit and the ratings of bars. \n",
    "\n",
    "Since people can't drink and drive, it seems like the availability to get to or from a certain bar would have an effect on it's popularity/rating."
   ]
  }
 ],
 "metadata": {
  "kernelspec": {
   "display_name": "THE_ONE_env",
   "language": "python",
   "name": "the_one_env"
  },
  "language_info": {
   "codemirror_mode": {
    "name": "ipython",
    "version": 3
   },
   "file_extension": ".py",
   "mimetype": "text/x-python",
   "name": "python",
   "nbconvert_exporter": "python",
   "pygments_lexer": "ipython3",
   "version": "3.11.5"
  }
 },
 "nbformat": 4,
 "nbformat_minor": 4
}
