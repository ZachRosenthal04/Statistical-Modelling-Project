{
 "cells": [
  {
   "cell_type": "markdown",
   "metadata": {},
   "source": [
    "Build a regression model."
   ]
  },
  {
   "cell_type": "code",
   "execution_count": 1,
   "metadata": {},
   "outputs": [],
   "source": [
    "import numpy as np\n",
    "import pandas as pd\n",
    "import matplotlib.pyplot as plt\n",
    "import statsmodels.api as sm\n",
    "# import linear_model from sklearn\n",
    "from sklearn import linear_model"
   ]
  },
  {
   "cell_type": "markdown",
   "metadata": {},
   "source": [
    "Provide model output and an interpretation of the results. "
   ]
  },
  {
   "cell_type": "code",
   "execution_count": 3,
   "metadata": {},
   "outputs": [
    {
     "data": {
      "text/html": [
       "<div>\n",
       "<style scoped>\n",
       "    .dataframe tbody tr th:only-of-type {\n",
       "        vertical-align: middle;\n",
       "    }\n",
       "\n",
       "    .dataframe tbody tr th {\n",
       "        vertical-align: top;\n",
       "    }\n",
       "\n",
       "    .dataframe thead th {\n",
       "        text-align: right;\n",
       "    }\n",
       "</style>\n",
       "<table border=\"1\" class=\"dataframe\">\n",
       "  <thead>\n",
       "    <tr style=\"text-align: right;\">\n",
       "      <th></th>\n",
       "      <th>bar_id</th>\n",
       "      <th>bar_name</th>\n",
       "      <th>popularity</th>\n",
       "      <th>rating</th>\n",
       "      <th>price</th>\n",
       "      <th>review_count</th>\n",
       "      <th>num_stations_pinged</th>\n",
       "      <th>empty_slots</th>\n",
       "      <th>free_bikes</th>\n",
       "      <th>total_slots</th>\n",
       "      <th>percent_used</th>\n",
       "    </tr>\n",
       "  </thead>\n",
       "  <tbody>\n",
       "    <tr>\n",
       "      <th>0</th>\n",
       "      <td>55aedbd9498eb6db5d095733</td>\n",
       "      <td>Le 4e Mur</td>\n",
       "      <td>0.97</td>\n",
       "      <td>9.0</td>\n",
       "      <td>3.0</td>\n",
       "      <td>99.0</td>\n",
       "      <td>11.0</td>\n",
       "      <td>12</td>\n",
       "      <td>3</td>\n",
       "      <td>15</td>\n",
       "      <td>80.0</td>\n",
       "    </tr>\n",
       "    <tr>\n",
       "      <th>1</th>\n",
       "      <td>4b0c1ff8f964a520603723e3</td>\n",
       "      <td>Le Saint Bock</td>\n",
       "      <td>0.98</td>\n",
       "      <td>8.3</td>\n",
       "      <td>2.0</td>\n",
       "      <td>36.0</td>\n",
       "      <td>9.0</td>\n",
       "      <td>12</td>\n",
       "      <td>3</td>\n",
       "      <td>15</td>\n",
       "      <td>80.0</td>\n",
       "    </tr>\n",
       "    <tr>\n",
       "      <th>2</th>\n",
       "      <td>4ad4c06bf964a5203ef920e3</td>\n",
       "      <td>Brasserie Artisanale l'Amère a Boire Inc</td>\n",
       "      <td>0.96</td>\n",
       "      <td>8.1</td>\n",
       "      <td>2.0</td>\n",
       "      <td>131.0</td>\n",
       "      <td>8.0</td>\n",
       "      <td>12</td>\n",
       "      <td>3</td>\n",
       "      <td>15</td>\n",
       "      <td>80.0</td>\n",
       "    </tr>\n",
       "    <tr>\n",
       "      <th>3</th>\n",
       "      <td>56ec4544498e27e294330c2b</td>\n",
       "      <td>Cadet</td>\n",
       "      <td>0.98</td>\n",
       "      <td>9.5</td>\n",
       "      <td>2.0</td>\n",
       "      <td>13.0</td>\n",
       "      <td>23.0</td>\n",
       "      <td>12</td>\n",
       "      <td>3</td>\n",
       "      <td>15</td>\n",
       "      <td>80.0</td>\n",
       "    </tr>\n",
       "    <tr>\n",
       "      <th>4</th>\n",
       "      <td>4c1009053ce120a19f6d071c</td>\n",
       "      <td>Pub l'Ile Noire</td>\n",
       "      <td>0.98</td>\n",
       "      <td>7.8</td>\n",
       "      <td>2.0</td>\n",
       "      <td>129.0</td>\n",
       "      <td>6.0</td>\n",
       "      <td>12</td>\n",
       "      <td>3</td>\n",
       "      <td>15</td>\n",
       "      <td>80.0</td>\n",
       "    </tr>\n",
       "  </tbody>\n",
       "</table>\n",
       "</div>"
      ],
      "text/plain": [
       "                     bar_id                                  bar_name  \\\n",
       "0  55aedbd9498eb6db5d095733                                 Le 4e Mur   \n",
       "1  4b0c1ff8f964a520603723e3                             Le Saint Bock   \n",
       "2  4ad4c06bf964a5203ef920e3  Brasserie Artisanale l'Amère a Boire Inc   \n",
       "3  56ec4544498e27e294330c2b                                     Cadet   \n",
       "4  4c1009053ce120a19f6d071c                           Pub l'Ile Noire   \n",
       "\n",
       "   popularity  rating  price  review_count  num_stations_pinged  empty_slots  \\\n",
       "0        0.97     9.0    3.0          99.0                 11.0           12   \n",
       "1        0.98     8.3    2.0          36.0                  9.0           12   \n",
       "2        0.96     8.1    2.0         131.0                  8.0           12   \n",
       "3        0.98     9.5    2.0          13.0                 23.0           12   \n",
       "4        0.98     7.8    2.0         129.0                  6.0           12   \n",
       "\n",
       "   free_bikes  total_slots  percent_used  \n",
       "0           3           15          80.0  \n",
       "1           3           15          80.0  \n",
       "2           3           15          80.0  \n",
       "3           3           15          80.0  \n",
       "4           3           15          80.0  "
      ]
     },
     "execution_count": 3,
     "metadata": {},
     "output_type": "execute_result"
    }
   ],
   "source": [
    "analysis_df = pd.read_csv('/Users/zachrosenthal/Desktop/Data Science/PYTHON/KATAS/Jupyter Notebooks/Statistical-Modelling-Project/data/analysis_df.csv', index_col=0)\n",
    "analysis_df.head()\n"
   ]
  },
  {
   "cell_type": "code",
   "execution_count": 4,
   "metadata": {},
   "outputs": [],
   "source": [
    "X = analysis_df[['popularity', 'rating', 'review_count', 'price', 'num_stations_pinged', 'free_bikes', 'total_slots']]\n",
    "y = pd.Series(analysis_df['percent_used'],name=analysis_df['percent_used'][0])"
   ]
  },
  {
   "cell_type": "code",
   "execution_count": 5,
   "metadata": {},
   "outputs": [
    {
     "data": {
      "text/plain": [
       "(487, 7)"
      ]
     },
     "execution_count": 5,
     "metadata": {},
     "output_type": "execute_result"
    }
   ],
   "source": [
    "X.shape"
   ]
  },
  {
   "cell_type": "code",
   "execution_count": 6,
   "metadata": {},
   "outputs": [
    {
     "data": {
      "text/html": [
       "<div>\n",
       "<style scoped>\n",
       "    .dataframe tbody tr th:only-of-type {\n",
       "        vertical-align: middle;\n",
       "    }\n",
       "\n",
       "    .dataframe tbody tr th {\n",
       "        vertical-align: top;\n",
       "    }\n",
       "\n",
       "    .dataframe thead th {\n",
       "        text-align: right;\n",
       "    }\n",
       "</style>\n",
       "<table border=\"1\" class=\"dataframe\">\n",
       "  <thead>\n",
       "    <tr style=\"text-align: right;\">\n",
       "      <th></th>\n",
       "      <th>popularity</th>\n",
       "      <th>rating</th>\n",
       "      <th>review_count</th>\n",
       "      <th>price</th>\n",
       "      <th>num_stations_pinged</th>\n",
       "      <th>free_bikes</th>\n",
       "      <th>total_slots</th>\n",
       "    </tr>\n",
       "  </thead>\n",
       "  <tbody>\n",
       "    <tr>\n",
       "      <th>0</th>\n",
       "      <td>0.97</td>\n",
       "      <td>9.0</td>\n",
       "      <td>99.0</td>\n",
       "      <td>3.0</td>\n",
       "      <td>11.0</td>\n",
       "      <td>3</td>\n",
       "      <td>15</td>\n",
       "    </tr>\n",
       "    <tr>\n",
       "      <th>1</th>\n",
       "      <td>0.98</td>\n",
       "      <td>8.3</td>\n",
       "      <td>36.0</td>\n",
       "      <td>2.0</td>\n",
       "      <td>9.0</td>\n",
       "      <td>3</td>\n",
       "      <td>15</td>\n",
       "    </tr>\n",
       "    <tr>\n",
       "      <th>2</th>\n",
       "      <td>0.96</td>\n",
       "      <td>8.1</td>\n",
       "      <td>131.0</td>\n",
       "      <td>2.0</td>\n",
       "      <td>8.0</td>\n",
       "      <td>3</td>\n",
       "      <td>15</td>\n",
       "    </tr>\n",
       "    <tr>\n",
       "      <th>3</th>\n",
       "      <td>0.98</td>\n",
       "      <td>9.5</td>\n",
       "      <td>13.0</td>\n",
       "      <td>2.0</td>\n",
       "      <td>23.0</td>\n",
       "      <td>3</td>\n",
       "      <td>15</td>\n",
       "    </tr>\n",
       "    <tr>\n",
       "      <th>4</th>\n",
       "      <td>0.98</td>\n",
       "      <td>7.8</td>\n",
       "      <td>129.0</td>\n",
       "      <td>2.0</td>\n",
       "      <td>6.0</td>\n",
       "      <td>3</td>\n",
       "      <td>15</td>\n",
       "    </tr>\n",
       "  </tbody>\n",
       "</table>\n",
       "</div>"
      ],
      "text/plain": [
       "   popularity  rating  review_count  price  num_stations_pinged  free_bikes  \\\n",
       "0        0.97     9.0          99.0    3.0                 11.0           3   \n",
       "1        0.98     8.3          36.0    2.0                  9.0           3   \n",
       "2        0.96     8.1         131.0    2.0                  8.0           3   \n",
       "3        0.98     9.5          13.0    2.0                 23.0           3   \n",
       "4        0.98     7.8         129.0    2.0                  6.0           3   \n",
       "\n",
       "   total_slots  \n",
       "0           15  \n",
       "1           15  \n",
       "2           15  \n",
       "3           15  \n",
       "4           15  "
      ]
     },
     "execution_count": 6,
     "metadata": {},
     "output_type": "execute_result"
    }
   ],
   "source": [
    "X.head()"
   ]
  },
  {
   "cell_type": "code",
   "execution_count": 7,
   "metadata": {},
   "outputs": [
    {
     "data": {
      "text/plain": [
       "0       80.0\n",
       "1       80.0\n",
       "2       80.0\n",
       "3       80.0\n",
       "4       80.0\n",
       "       ...  \n",
       "482     40.0\n",
       "483     89.0\n",
       "484    100.0\n",
       "485    100.0\n",
       "486    100.0\n",
       "Name: 80.0, Length: 487, dtype: float64"
      ]
     },
     "execution_count": 7,
     "metadata": {},
     "output_type": "execute_result"
    }
   ],
   "source": [
    "y"
   ]
  },
  {
   "cell_type": "markdown",
   "metadata": {},
   "source": [
    "#### Discussion of the Rating and number of nearby stations model output:"
   ]
  },
  {
   "cell_type": "code",
   "execution_count": 10,
   "metadata": {},
   "outputs": [],
   "source": [
    "# Model for how the number of stations within 1000m affects the bar's rating\n",
    "X = analysis_df[['popularity', 'rating', 'review_count', 'price', 'num_stations_pinged', 'free_bikes', 'total_slots']]\n",
    "y = pd.Series(analysis_df['rating'],name=analysis_df['rating'][0])"
   ]
  },
  {
   "cell_type": "code",
   "execution_count": 11,
   "metadata": {},
   "outputs": [],
   "source": [
    "X = sm.add_constant(X) # adding a constant\n",
    "lin_reg = sm.OLS(y,X['num_stations_pinged'])"
   ]
  },
  {
   "cell_type": "code",
   "execution_count": 12,
   "metadata": {},
   "outputs": [
    {
     "name": "stdout",
     "output_type": "stream",
     "text": [
      "                                 OLS Regression Results                                \n",
      "=======================================================================================\n",
      "Dep. Variable:                    9.0   R-squared (uncentered):                   0.571\n",
      "Model:                            OLS   Adj. R-squared (uncentered):              0.570\n",
      "Method:                 Least Squares   F-statistic:                              646.0\n",
      "Date:                Sun, 17 Dec 2023   Prob (F-statistic):                    2.79e-91\n",
      "Time:                        16:09:16   Log-Likelihood:                         -1484.9\n",
      "No. Observations:                 487   AIC:                                      2972.\n",
      "Df Residuals:                     486   BIC:                                      2976.\n",
      "Df Model:                           1                                                  \n",
      "Covariance Type:            nonrobust                                                  \n",
      "=======================================================================================\n",
      "                          coef    std err          t      P>|t|      [0.025      0.975]\n",
      "---------------------------------------------------------------------------------------\n",
      "num_stations_pinged     0.7047      0.028     25.417      0.000       0.650       0.759\n",
      "==============================================================================\n",
      "Omnibus:                      207.300   Durbin-Watson:                   0.441\n",
      "Prob(Omnibus):                  0.000   Jarque-Bera (JB):              917.993\n",
      "Skew:                          -1.887   Prob(JB):                    4.58e-200\n",
      "Kurtosis:                       8.567   Cond. No.                         1.00\n",
      "==============================================================================\n",
      "\n",
      "Notes:\n",
      "[1] R² is computed without centering (uncentered) since the model does not contain a constant.\n",
      "[2] Standard Errors assume that the covariance matrix of the errors is correctly specified.\n"
     ]
    }
   ],
   "source": [
    "#Model for Number of Nearby Stations and Rating\n",
    "model = lin_reg.fit()\n",
    "print_model = model.summary()\n",
    "print(print_model)"
   ]
  },
  {
   "cell_type": "markdown",
   "metadata": {},
   "source": [
    "### Understanding the Model Outputs\n",
    "In the model output above, you should pay attention to the following statistics in this order:\n",
    "\n",
    "Model 1: The Rating and Percent Used:\n",
    "R-squared: R-squared reflects the fit of the model. R-squared values range from 0 to 1, where a higher value generally indicates a better fit, assuming certain conditions are met. In this output, we can see that the value is 0.571. This means that the model is capable of explaining 57.1% of the patterns in the data. It does make sense that bars that have a more public transit options to get to them would have more of an opportunity for patrongage and therefore would have a higher rating. Also, more bike stations within 1000m suggests that the bar is more centrally located within the city and therefore would have more tourists and people looking for a good time which lends itself well to a higher rating. \n",
    "\n",
    "P>|t| (or the p-value): A p-value of less than 0.05 is considered to be statistically significant. This regression output shows a p-value of 0, which means that the probability of the relationship between the number of stations within 1000m of a bar and the bar's rating being solely due to natural variation is 0. In other words, the number of nearby bike stations does impact the rating of a bar.\n",
    "\n",
    "coef: Coef is short for the coefficient of the independent variable. It represents the impact on the response variable per unit increase of the independent variable. In this case, we can see that the coef of num_statations_pinged has a value of 0.7047. This means that a unit increase in the value of num_stations_pinged will have a positive impact on the rating of a bar."
   ]
  },
  {
   "cell_type": "markdown",
   "metadata": {},
   "source": [
    "#### Single Linear Regression for how a bar's rating affects a bar's popularity:"
   ]
  },
  {
   "cell_type": "code",
   "execution_count": 15,
   "metadata": {},
   "outputs": [
    {
     "name": "stdout",
     "output_type": "stream",
     "text": [
      "                                 OLS Regression Results                                \n",
      "=======================================================================================\n",
      "Dep. Variable:                   0.97   R-squared (uncentered):                   0.828\n",
      "Model:                            OLS   Adj. R-squared (uncentered):              0.828\n",
      "Method:                 Least Squares   F-statistic:                              2348.\n",
      "Date:                Sun, 17 Dec 2023   Prob (F-statistic):                   3.38e-188\n",
      "Time:                        18:36:11   Log-Likelihood:                         -142.83\n",
      "No. Observations:                 487   AIC:                                      287.7\n",
      "Df Residuals:                     486   BIC:                                      291.9\n",
      "Df Model:                           1                                                  \n",
      "Covariance Type:            nonrobust                                                  \n",
      "==============================================================================\n",
      "                 coef    std err          t      P>|t|      [0.025      0.975]\n",
      "------------------------------------------------------------------------------\n",
      "rating         0.0915      0.002     48.453      0.000       0.088       0.095\n",
      "==============================================================================\n",
      "Omnibus:                       56.159   Durbin-Watson:                   1.842\n",
      "Prob(Omnibus):                  0.000   Jarque-Bera (JB):               72.361\n",
      "Skew:                          -0.931   Prob(JB):                     1.94e-16\n",
      "Kurtosis:                       2.686   Cond. No.                         1.00\n",
      "==============================================================================\n",
      "\n",
      "Notes:\n",
      "[1] R² is computed without centering (uncentered) since the model does not contain a constant.\n",
      "[2] Standard Errors assume that the covariance matrix of the errors is correctly specified.\n"
     ]
    }
   ],
   "source": [
    "# Model for the relationship of rating and popularity\n",
    "X = analysis_df[['rating', 'review_count', 'price', 'num_stations_pinged', 'free_bikes', 'total_slots']]\n",
    "y = pd.Series(analysis_df['popularity'],name=analysis_df['popularity'][0])\n",
    "\n",
    "X = sm.add_constant(X) # adding a constant\n",
    "lin_reg = sm.OLS(y,X['rating'])\n",
    "\n",
    "#Model for Number of Nearby Stations and Rating\n",
    "model = lin_reg.fit()\n",
    "print_model = model.summary()\n",
    "print(print_model)"
   ]
  },
  {
   "cell_type": "markdown",
   "metadata": {},
   "source": [
    "I made a model for the relationship between popularity and rating because I wanted to be sure that they had strong positive relationship. I also think this is a strong relationship for bars to be able to know. Popularity is a deeply human and subjective criteria, but rating (which really is their online rating) is much more concrete. The model's p-value shows a statistically significant relationship between rating and popularity. The rating can account for 82.8% of the popularity rating of the bars considered in this model. Unsurprisingly, the positive coefficient means that as a bar's rating increases so too does the bar's popularity. "
   ]
  },
  {
   "cell_type": "markdown",
   "metadata": {},
   "source": [
    "#### Multi-linear Regression: With Popularity"
   ]
  },
  {
   "cell_type": "code",
   "execution_count": 17,
   "metadata": {},
   "outputs": [
    {
     "name": "stdout",
     "output_type": "stream",
     "text": [
      "                            OLS Regression Results                            \n",
      "==============================================================================\n",
      "Dep. Variable:                    9.0   R-squared:                       0.081\n",
      "Model:                            OLS   Adj. R-squared:                  0.071\n",
      "Method:                 Least Squares   F-statistic:                     8.483\n",
      "Date:                Sun, 17 Dec 2023   Prob (F-statistic):           1.04e-07\n",
      "Time:                        19:38:36   Log-Likelihood:                -685.94\n",
      "No. Observations:                 487   AIC:                             1384.\n",
      "Df Residuals:                     481   BIC:                             1409.\n",
      "Df Model:                           5                                         \n",
      "Covariance Type:            nonrobust                                         \n",
      "=======================================================================================\n",
      "                          coef    std err          t      P>|t|      [0.025      0.975]\n",
      "---------------------------------------------------------------------------------------\n",
      "const                   7.3119      0.223     32.840      0.000       6.874       7.749\n",
      "popularity              0.0349      0.146      0.239      0.811      -0.252       0.322\n",
      "review_count            0.0021      0.001      3.495      0.001       0.001       0.003\n",
      "price                   0.1566      0.077      2.033      0.043       0.005       0.308\n",
      "num_stations_pinged     0.0340      0.008      4.149      0.000       0.018       0.050\n",
      "percent_used           -0.0054      0.002     -2.662      0.008      -0.009      -0.001\n",
      "==============================================================================\n",
      "Omnibus:                      158.218   Durbin-Watson:                   1.705\n",
      "Prob(Omnibus):                  0.000   Jarque-Bera (JB):              572.597\n",
      "Skew:                          -1.461   Prob(JB):                    4.59e-125\n",
      "Kurtosis:                       7.436   Cond. No.                         662.\n",
      "==============================================================================\n",
      "\n",
      "Notes:\n",
      "[1] Standard Errors assume that the covariance matrix of the errors is correctly specified.\n"
     ]
    }
   ],
   "source": [
    "# Model for Bar Ratings and Bike usage on nearby stations:\n",
    "X = analysis_df[['popularity', 'review_count', 'price', 'num_stations_pinged', 'percent_used']]\n",
    "y = pd.Series(analysis_df['rating'],name=analysis_df['rating'][0])\n",
    "# Multiple Linear Regression:\n",
    "X = sm.add_constant(X) # adding a constant\n",
    "lin_reg = sm.OLS(y,X)\n",
    "\n",
    "\n",
    "model = lin_reg.fit()\n",
    "print_model = model.summary()\n",
    "print(print_model)"
   ]
  },
  {
   "cell_type": "code",
   "execution_count": 18,
   "metadata": {},
   "outputs": [
    {
     "name": "stdout",
     "output_type": "stream",
     "text": [
      "                            OLS Regression Results                            \n",
      "==============================================================================\n",
      "Dep. Variable:                    9.0   R-squared:                       0.081\n",
      "Model:                            OLS   Adj. R-squared:                  0.073\n",
      "Method:                 Least Squares   F-statistic:                     10.61\n",
      "Date:                Sun, 17 Dec 2023   Prob (F-statistic):           3.01e-08\n",
      "Time:                        19:38:51   Log-Likelihood:                -685.97\n",
      "No. Observations:                 487   AIC:                             1382.\n",
      "Df Residuals:                     482   BIC:                             1403.\n",
      "Df Model:                           4                                         \n",
      "Covariance Type:            nonrobust                                         \n",
      "=======================================================================================\n",
      "                          coef    std err          t      P>|t|      [0.025      0.975]\n",
      "---------------------------------------------------------------------------------------\n",
      "const                   7.3362      0.198     37.057      0.000       6.947       7.725\n",
      "review_count            0.0021      0.001      3.550      0.000       0.001       0.003\n",
      "price                   0.1564      0.077      2.032      0.043       0.005       0.308\n",
      "num_stations_pinged     0.0339      0.008      4.146      0.000       0.018       0.050\n",
      "percent_used           -0.0053      0.002     -2.661      0.008      -0.009      -0.001\n",
      "==============================================================================\n",
      "Omnibus:                      158.545   Durbin-Watson:                   1.704\n",
      "Prob(Omnibus):                  0.000   Jarque-Bera (JB):              574.861\n",
      "Skew:                          -1.464   Prob(JB):                    1.48e-125\n",
      "Kurtosis:                       7.445   Cond. No.                         566.\n",
      "==============================================================================\n",
      "\n",
      "Notes:\n",
      "[1] Standard Errors assume that the covariance matrix of the errors is correctly specified.\n"
     ]
    }
   ],
   "source": [
    "# Model for Bar Ratings and Bike usage on nearby stations:\n",
    "X = analysis_df[['review_count', 'price', 'num_stations_pinged', 'percent_used']]\n",
    "y = pd.Series(analysis_df['rating'],name=analysis_df['rating'][0])\n",
    "# Multiple Linear Regression:\n",
    "X = sm.add_constant(X) # adding a constant\n",
    "lin_reg = sm.OLS(y,X)\n",
    "\n",
    "\n",
    "model = lin_reg.fit()\n",
    "print_model = model.summary()\n",
    "print(print_model)"
   ]
  },
  {
   "cell_type": "markdown",
   "metadata": {},
   "source": [
    "\n",
    "\n",
    "Based on this Adj R^2 value, my multi-linear model looking at Bar Ratings in Montreal conveys that popularity, the number of reviews, the price, the number of nearby bixi stations, and the busyness of those stations has a statistically significant relevance for 7% (0.071 R^2) of rating of a bar in Montreal. When popularity is considered, but what is interesting is that when rating is used to determine popularity, it has a p-value of 0.00 but now, in this case, the p-value for how popularity can reliably predict rating, it skyrockets to 0.811. This seems to show that online rating is a far better predictor of popularity than popularity is for a bar's rating. \n",
    "When I remove popularity, the adjusted R-squared value becomes 0.073. So a small improvement to the model.\n",
    "\n",
    "\n",
    "From the bixi API, it is really interesting to see that the availability of affordable, nearby public-transit access is the most statistically significant element since it's p-value is 0.000. Interestingly, for rating, it also shows that number of reviews people left (p-value of 0.00) is also show statisticly significant when determining a bar's rating. That makes total sense because people leaving reviews is how a bar gets its rating.   think the intersting thing about the relationship between the number of reviews left and a bar's rating is that the coefficent of review_count is 0.0021. To me, this means that there is a lightly positive correlation between the number of reviews left and a bar's rating. That means that, as we might expect, the quality of the reviews is pretty close to 50-50 for good and bad reviews, but that generally most reviews are positive ones. \n",
    "\n",
    "Also, at least in this model, the price, with it's p-value of 0.043, is the weakest metric for determining a bar's rating. The interesting thing for future study would be a bigger sample of Yelp and Foursquare data because based on the top-10s of each website, it appeared as though Yelp's users were more concerned with price than the users of Foursquare.\n",
    "\n",
    "The multivariate model also confirms the data of the simple linear regression which showed that num_stations_pinged is a statisticly significant metric when trying to predict a bar's online rating. Since people need affordable means of getting to and from a bar, and also since they cannot leagally drink and drive this makes sense. This data leads me to believe that there is an important possible exploreation for the business importance of having affordable transportation to and from bars and restaurants. "
   ]
  }
 ],
 "metadata": {
  "kernelspec": {
   "display_name": "THE_ONE_env",
   "language": "python",
   "name": "the_one_env"
  },
  "language_info": {
   "codemirror_mode": {
    "name": "ipython",
    "version": 3
   },
   "file_extension": ".py",
   "mimetype": "text/x-python",
   "name": "python",
   "nbconvert_exporter": "python",
   "pygments_lexer": "ipython3",
   "version": "3.11.5"
  }
 },
 "nbformat": 4,
 "nbformat_minor": 4
}
